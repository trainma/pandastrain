{
 "cells": [
  {
   "cell_type": "code",
   "execution_count": 3,
   "metadata": {},
   "outputs": [
    {
     "ename": "NotImplementedError",
     "evalue": "'fct_relevel' is not registered for type: <class 'type'>.",
     "output_type": "error",
     "traceback": [
      "\u001b[0;31m---------------------------------------------------------------------------\u001b[0m",
      "\u001b[0;31mNotImplementedError\u001b[0m                       Traceback (most recent call last)",
      "\u001b[1;32m/root/pythonproject/datar.ipynb Cell 1\u001b[0m in \u001b[0;36m<cell line: 11>\u001b[0;34m()\u001b[0m\n\u001b[1;32m      <a href='vscode-notebook-cell://wsl%2Bubuntu-18.04/root/pythonproject/datar.ipynb#ch0000000vscode-remote?line=4'>5</a>\u001b[0m d_funds_type \u001b[39m=\u001b[39m tibble(\u001b[39mtype\u001b[39m\u001b[39m=\u001b[39m[\u001b[39m\"\u001b[39m\u001b[39m国内股本\u001b[39m\u001b[39m\"\u001b[39m, \u001b[39m\"\u001b[39m\u001b[39m国际股本\u001b[39m\u001b[39m\"\u001b[39m, \u001b[39m\"\u001b[39m\u001b[39m固定收益\u001b[39m\u001b[39m\"\u001b[39m], freq\u001b[39m=\u001b[39m[\u001b[39m16\u001b[39m, \u001b[39m4\u001b[39m, \u001b[39m5\u001b[39m])\n\u001b[1;32m      <a href='vscode-notebook-cell://wsl%2Bubuntu-18.04/root/pythonproject/datar.ipynb#ch0000000vscode-remote?line=5'>6</a>\u001b[0m df \u001b[39m=\u001b[39m tibble(\n\u001b[1;32m      <a href='vscode-notebook-cell://wsl%2Bubuntu-18.04/root/pythonproject/datar.ipynb#ch0000000vscode-remote?line=6'>7</a>\u001b[0m     x\u001b[39m=\u001b[39m\u001b[39mrange\u001b[39m(\u001b[39m4\u001b[39m),  \u001b[39m# or f[:4]\u001b[39;00m\n\u001b[1;32m      <a href='vscode-notebook-cell://wsl%2Bubuntu-18.04/root/pythonproject/datar.ipynb#ch0000000vscode-remote?line=7'>8</a>\u001b[0m     y\u001b[39m=\u001b[39m[\u001b[39m'\u001b[39m\u001b[39mzero\u001b[39m\u001b[39m'\u001b[39m, \u001b[39m'\u001b[39m\u001b[39mone\u001b[39m\u001b[39m'\u001b[39m, \u001b[39m'\u001b[39m\u001b[39mtwo\u001b[39m\u001b[39m'\u001b[39m, \u001b[39m'\u001b[39m\u001b[39mthree\u001b[39m\u001b[39m'\u001b[39m]\n\u001b[1;32m      <a href='vscode-notebook-cell://wsl%2Bubuntu-18.04/root/pythonproject/datar.ipynb#ch0000000vscode-remote?line=8'>9</a>\u001b[0m )\n\u001b[0;32m---> <a href='vscode-notebook-cell://wsl%2Bubuntu-18.04/root/pythonproject/datar.ipynb#ch0000000vscode-remote?line=10'>11</a>\u001b[0m d_funds_type \u001b[39m>>\u001b[39m mutate(\u001b[39mtype\u001b[39m\u001b[39m=\u001b[39mfct_relevel(\u001b[39mtype\u001b[39;49m, \u001b[39m\"\u001b[39;49m\u001b[39m国内股本\u001b[39;49m\u001b[39m\"\u001b[39;49m, \u001b[39m\"\u001b[39;49m\u001b[39m国际股本\u001b[39;49m\u001b[39m\"\u001b[39;49m, \u001b[39m\"\u001b[39;49m\u001b[39m固定收益\u001b[39;49m\u001b[39m\"\u001b[39;49m))\n",
      "File \u001b[0;32m~/miniconda3/lib/python3.9/site-packages/pipda/register.py:391\u001b[0m, in \u001b[0;36m_wrapping_verb.<locals>.wrapper\u001b[0;34m(__calling_env, __envdata, *args, **kwargs)\u001b[0m\n\u001b[1;32m    381\u001b[0m     envdata \u001b[39m=\u001b[39m (\n\u001b[1;32m    382\u001b[0m         __envdata\n\u001b[1;32m    383\u001b[0m         \u001b[39mif\u001b[39;00m __envdata \u001b[39mis\u001b[39;00m \u001b[39mnot\u001b[39;00m NULL\n\u001b[1;32m    384\u001b[0m         \u001b[39melse\u001b[39;00m get_env_data(sys\u001b[39m.\u001b[39m_getframe(\u001b[39m1\u001b[39m))\n\u001b[1;32m    385\u001b[0m     )\n\u001b[1;32m    387\u001b[0m     calling_rule \u001b[39m=\u001b[39m (\n\u001b[1;32m    388\u001b[0m         verb_calling_rule3 \u001b[39mif\u001b[39;00m envdata \u001b[39mis\u001b[39;00m NULL \u001b[39melse\u001b[39;00m verb_calling_rule4\n\u001b[1;32m    389\u001b[0m     )\n\u001b[0;32m--> 391\u001b[0m \u001b[39mreturn\u001b[39;00m calling_rule(generic, args, kwargs, envdata)\n",
      "File \u001b[0;32m~/miniconda3/lib/python3.9/site-packages/pipda/_calling.py:74\u001b[0m, in \u001b[0;36mverb_calling_rule2\u001b[0;34m(generic, args, kwargs, envdata)\u001b[0m\n\u001b[1;32m     66\u001b[0m \u001b[39m\"\"\"Verb calling rule #2\u001b[39;00m\n\u001b[1;32m     67\u001b[0m \n\u001b[1;32m     68\u001b[0m \u001b[39m>>> data >> other_verb(verb(...))\u001b[39;00m\n\u001b[1;32m     69\u001b[0m \u001b[39m>>> other_verb(data, verb(...))\u001b[39;00m\n\u001b[1;32m     70\u001b[0m \u001b[39m>>> registered_func(verb(...))\u001b[39;00m\n\u001b[1;32m     71\u001b[0m \u001b[39m\"\"\"\u001b[39;00m\n\u001b[1;32m     72\u001b[0m \u001b[39m# Try using the first argument\u001b[39;00m\n\u001b[1;32m     73\u001b[0m \u001b[39m# Evaluation triggered by other verb or function\u001b[39;00m\n\u001b[0;32m---> 74\u001b[0m \u001b[39mreturn\u001b[39;00m FastEvalVerb(generic, args, kwargs)\u001b[39m.\u001b[39;49m_pipda_fast_eval()\n",
      "File \u001b[0;32m~/miniconda3/lib/python3.9/site-packages/pipda/verb.py:36\u001b[0m, in \u001b[0;36mFastEvalVerb._pipda_fast_eval\u001b[0;34m(self)\u001b[0m\n\u001b[1;32m     33\u001b[0m     \u001b[39mself\u001b[39m\u001b[39m.\u001b[39m_pipda_dataarg \u001b[39m=\u001b[39m \u001b[39mFalse\u001b[39;00m\n\u001b[1;32m     34\u001b[0m     \u001b[39mreturn\u001b[39;00m \u001b[39mself\u001b[39m\n\u001b[0;32m---> 36\u001b[0m \u001b[39mreturn\u001b[39;00m Function(\n\u001b[1;32m     37\u001b[0m     \u001b[39mself\u001b[39;49m\u001b[39m.\u001b[39;49m_pipda_func,\n\u001b[1;32m     38\u001b[0m     args,\n\u001b[1;32m     39\u001b[0m     \u001b[39mself\u001b[39;49m\u001b[39m.\u001b[39;49m_pipda_kwargs\n\u001b[1;32m     40\u001b[0m )\u001b[39m.\u001b[39;49m_pipda_eval(firstarg)\n",
      "File \u001b[0;32m~/miniconda3/lib/python3.9/site-packages/pipda/function.py:147\u001b[0m, in \u001b[0;36mFunction._pipda_eval\u001b[0;34m(self, data, context)\u001b[0m\n\u001b[1;32m    142\u001b[0m         \u001b[39mwith\u001b[39;00m context\u001b[39m.\u001b[39mkwargs\u001b[39m.\u001b[39mwith_meta(meta):\n\u001b[1;32m    143\u001b[0m             kwargs \u001b[39m=\u001b[39m evaluate_expr(\n\u001b[1;32m    144\u001b[0m                 bondargs\u001b[39m.\u001b[39mkwargs, data, context\u001b[39m.\u001b[39mkwargs\n\u001b[1;32m    145\u001b[0m             )\n\u001b[0;32m--> 147\u001b[0m \u001b[39mreturn\u001b[39;00m func(\u001b[39m*\u001b[39;49margs, \u001b[39m*\u001b[39;49m\u001b[39m*\u001b[39;49mkwargs)\n",
      "File \u001b[0;32m~/miniconda3/lib/python3.9/functools.py:888\u001b[0m, in \u001b[0;36msingledispatch.<locals>.wrapper\u001b[0;34m(*args, **kw)\u001b[0m\n\u001b[1;32m    884\u001b[0m \u001b[39mif\u001b[39;00m \u001b[39mnot\u001b[39;00m args:\n\u001b[1;32m    885\u001b[0m     \u001b[39mraise\u001b[39;00m \u001b[39mTypeError\u001b[39;00m(\u001b[39mf\u001b[39m\u001b[39m'\u001b[39m\u001b[39m{\u001b[39;00mfuncname\u001b[39m}\u001b[39;00m\u001b[39m requires at least \u001b[39m\u001b[39m'\u001b[39m\n\u001b[1;32m    886\u001b[0m                     \u001b[39m'\u001b[39m\u001b[39m1 positional argument\u001b[39m\u001b[39m'\u001b[39m)\n\u001b[0;32m--> 888\u001b[0m \u001b[39mreturn\u001b[39;00m dispatch(args[\u001b[39m0\u001b[39;49m]\u001b[39m.\u001b[39;49m\u001b[39m__class__\u001b[39;49m)(\u001b[39m*\u001b[39;49margs, \u001b[39m*\u001b[39;49m\u001b[39m*\u001b[39;49mkw)\n",
      "File \u001b[0;32m~/miniconda3/lib/python3.9/site-packages/pipda/register.py:333\u001b[0m, in \u001b[0;36m_generalizing.<locals>._not_implemented\u001b[0;34m(_data, *args, **kwargs)\u001b[0m\n\u001b[1;32m    331\u001b[0m \u001b[39m@wraps\u001b[39m(func)\n\u001b[1;32m    332\u001b[0m \u001b[39mdef\u001b[39;00m \u001b[39m_not_implemented\u001b[39m(_data: Any, \u001b[39m*\u001b[39margs: Any, \u001b[39m*\u001b[39m\u001b[39m*\u001b[39mkwargs: Any) \u001b[39m-\u001b[39m\u001b[39m>\u001b[39m \u001b[39mNone\u001b[39;00m:\n\u001b[0;32m--> 333\u001b[0m     \u001b[39mraise\u001b[39;00m \u001b[39mNotImplementedError\u001b[39;00m(\n\u001b[1;32m    334\u001b[0m         \u001b[39mf\u001b[39m\u001b[39m\"\u001b[39m\u001b[39m{\u001b[39;00mfunc\u001b[39m.\u001b[39m\u001b[39m__qualname__\u001b[39m\u001b[39m!r}\u001b[39;00m\u001b[39m is not \u001b[39m\u001b[39m\"\u001b[39m\n\u001b[1;32m    335\u001b[0m         \u001b[39mf\u001b[39m\u001b[39m\"\u001b[39m\u001b[39mregistered for type: \u001b[39m\u001b[39m{\u001b[39;00m\u001b[39mtype\u001b[39m(_data)\u001b[39m}\u001b[39;00m\u001b[39m.\u001b[39m\u001b[39m\"\u001b[39m\n\u001b[1;32m    336\u001b[0m     )\n",
      "\u001b[0;31mNotImplementedError\u001b[0m: 'fct_relevel' is not registered for type: <class 'type'>."
     ]
    }
   ],
   "source": [
    "from datar.tibble import tibble\n",
    "from datar.base import *\n",
    "from datar.dplyr import *\n",
    "from datar.all import * \n",
    "d_funds_type = tibble(type=[\"国内股本\", \"国际股本\", \"固定收益\"], freq=[16, 4, 5])\n",
    "df = tibble(\n",
    "    x=range(4),  # or f[:4]\n",
    "    y=['zero', 'one', 'two', 'three']\n",
    ")\n",
    "\n",
    "d_funds_type >> mutate(type=fct_relevel(type, \"国内股本\", \"国际股本\", \"固定收益\"))"
   ]
  },
  {
   "cell_type": "code",
   "execution_count": null,
   "metadata": {},
   "outputs": [],
   "source": []
  },
  {
   "cell_type": "code",
   "execution_count": null,
   "metadata": {},
   "outputs": [],
   "source": []
  },
  {
   "cell_type": "code",
   "execution_count": null,
   "metadata": {},
   "outputs": [],
   "source": []
  }
 ],
 "metadata": {
  "kernelspec": {
   "display_name": "Python 3.9.12 ('base')",
   "language": "python",
   "name": "python3"
  },
  "language_info": {
   "codemirror_mode": {
    "name": "ipython",
    "version": 3
   },
   "file_extension": ".py",
   "mimetype": "text/x-python",
   "name": "python",
   "nbconvert_exporter": "python",
   "pygments_lexer": "ipython3",
   "version": "3.9.12"
  },
  "orig_nbformat": 4,
  "vscode": {
   "interpreter": {
    "hash": "2f394aca7ca06fed1e6064aef884364492d7cdda3614a461e02e6407fc40ba69"
   }
  }
 },
 "nbformat": 4,
 "nbformat_minor": 2
}
